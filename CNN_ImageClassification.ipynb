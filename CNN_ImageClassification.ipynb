{
 "cells": [
  {
   "cell_type": "markdown",
   "metadata": {},
   "source": [
    "# Image Classification using Convolutional Neural Network (CNN)\n",
    "In this project, I will classify images from the CIFAR-10 dataset. The dataset consists of airplanes, dogs, cats, and other objects. I will preprocess the images, then train a convolutional neural network on all the samples. The images need to be normalized and the labels need to be one-hot encoded. Then I build a convolutional, max pooling, dropout, and fully connected layers. At the end, the neural network's predictions on the sample images is shown."
   ]
  },
  {
   "cell_type": "code",
   "execution_count": 23,
   "metadata": {},
   "outputs": [],
   "source": [
    "from urllib.request import urlretrieve\n",
    "from os.path import isfile, isdir\n",
    "from tqdm import tqdm\n",
    "import problem_unittests as tests\n",
    "import tarfile\n",
    "import helper\n",
    "import numpy as np\n",
    "import tensorflow.compat.v1 as tf\n",
    "import random"
   ]
  },
  {
   "cell_type": "code",
   "execution_count": 2,
   "metadata": {},
   "outputs": [
    {
     "name": "stdout",
     "output_type": "stream",
     "text": [
      "WARNING:tensorflow:From /Users/universebright/anaconda3/lib/python3.7/site-packages/tensorflow_core/python/compat/v2_compat.py:65: disable_resource_variables (from tensorflow.python.ops.variable_scope) is deprecated and will be removed in a future version.\n",
      "Instructions for updating:\n",
      "non-resource variables are not supported in the long term\n"
     ]
    }
   ],
   "source": [
    "tf.disable_v2_behavior()"
   ]
  },
  {
   "cell_type": "markdown",
   "metadata": {},
   "source": [
    "## Download datasets"
   ]
  },
  {
   "cell_type": "code",
   "execution_count": 3,
   "metadata": {},
   "outputs": [
    {
     "name": "stdout",
     "output_type": "stream",
     "text": [
      "All files found!\n"
     ]
    }
   ],
   "source": [
    "cifar10_dataset_folder_path = 'cifar-10-batches-py'\n",
    "\n",
    "# Use Floyd's cifar-10 dataset if present\n",
    "floyd_cifar10_location = '/input/cifar-10/python.tar.gz'\n",
    "if isfile(floyd_cifar10_location):\n",
    "    tar_gz_path = floyd_cifar10_location\n",
    "else:\n",
    "    tar_gz_path = 'cifar-10-python.tar.gz'\n",
    "\n",
    "class DLProgress(tqdm):\n",
    "    last_block = 0\n",
    "\n",
    "    def hook(self, block_num=1, block_size=1, total_size=None):\n",
    "        self.total = total_size\n",
    "        self.update((block_num - self.last_block) * block_size)\n",
    "        self.last_block = block_num\n",
    "\n",
    "if not isfile(tar_gz_path):\n",
    "    with DLProgress(unit='B', unit_scale=True, miniters=1, desc='CIFAR-10 Dataset') as pbar:\n",
    "        urlretrieve(\n",
    "            'https://www.cs.toronto.edu/~kriz/cifar-10-python.tar.gz',\n",
    "            tar_gz_path,\n",
    "            pbar.hook)\n",
    "\n",
    "if not isdir(cifar10_dataset_folder_path):\n",
    "    with tarfile.open(tar_gz_path) as tar:\n",
    "        tar.extractall()\n",
    "        tar.close()\n",
    "\n",
    "\n",
    "tests.test_folder_path(cifar10_dataset_folder_path)"
   ]
  },
  {
   "cell_type": "markdown",
   "metadata": {},
   "source": [
    "## Explore datasets"
   ]
  },
  {
   "cell_type": "markdown",
   "metadata": {},
   "source": [
    "The dataset is broken into batches to prevent machine from running out of memory. \n",
    "<br>\n",
    "The CIFAR-10 dataset consists of 5 batches, named data_batch_1, data_batch_2, etc.. Each batch contains the labels and images that are one of the following:\n",
    "* airplane\n",
    "* automobile\n",
    "* bird\n",
    "* cat\n",
    "* deer\n",
    "* dog\n",
    "* frog\n",
    "* horse\n",
    "* ship\n",
    "* truck"
   ]
  },
  {
   "cell_type": "code",
   "execution_count": 4,
   "metadata": {},
   "outputs": [
    {
     "name": "stdout",
     "output_type": "stream",
     "text": [
      "\n",
      "Stats of batch 1:\n",
      "Samples: 10000\n",
      "Label Counts: {0: 1005, 1: 974, 2: 1032, 3: 1016, 4: 999, 5: 937, 6: 1030, 7: 1001, 8: 1025, 9: 981}\n",
      "First 20 Labels: [6, 9, 9, 4, 1, 1, 2, 7, 8, 3, 4, 7, 7, 2, 9, 9, 9, 3, 2, 6]\n",
      "\n",
      "Example of Image 7:\n",
      "Image - Min Value: 9 Max Value: 248\n",
      "Image - Shape: (32, 32, 3)\n",
      "Label - Label Id: 7 Name: horse\n"
     ]
    },
    {
     "data": {
      "image/png": "[encoded data removed]",
      "text/plain": [
       "<Figure size 432x288 with 1 Axes>"
      ]
     },
     "metadata": {
      "image/png": {
       "height": 231,
       "width": 231
      },
      "needs_background": "light"
     },
     "output_type": "display_data"
    }
   ],
   "source": [
    "%matplotlib inline\n",
    "%config InlineBackend.figure_format = 'retina'\n",
    "# Explore the dataset\n",
    "batch_id = 1\n",
    "sample_id = 7\n",
    "helper.display_stats(cifar10_dataset_folder_path, batch_id, sample_id)"
   ]
  },
  {
   "cell_type": "markdown",
   "metadata": {},
   "source": [
    "## Data Processing\n",
    "### Normalization"
   ]
  },
  {
   "cell_type": "markdown",
   "metadata": {},
   "source": [
    "In the cell below, implement the normalize function to take in image data, x, and return it as a normalized Numpy array. The values should be in the range of 0 to 1, inclusive. The return object should be the same shape as x."
   ]
  },
  {
   "cell_type": "code",
   "execution_count": 5,
   "metadata": {},
   "outputs": [
    {
     "name": "stdout",
     "output_type": "stream",
     "text": [
      "Tests Passed\n"
     ]
    }
   ],
   "source": [
    "def normalize(x):  \n",
    "    \"\"\"\n",
    "    Normalize a list of sample image data in the range of 0 to 1\n",
    "    : x: List of image data.  The image shape is (32, 32, 3)\n",
    "    : return: Numpy array of normalize data\n",
    "    \"\"\"\n",
    "    normalized = (x-np.min(x))/(np.max(x)-np.min(x))\n",
    "    return normalized\n",
    "\n",
    "tests.test_normalize(normalize)"
   ]
  },
  {
   "cell_type": "markdown",
   "metadata": {},
   "source": [
    "### One-hot encoding"
   ]
  },
  {
   "cell_type": "markdown",
   "metadata": {},
   "source": [
    "The input, x, are a list of labels. Implement the function to return the list of labels as One-Hot encoded Numpy array. The possible values for labels are 0 to 9. The one-hot encoding function should return the same encoding for each value between each call to one_hot_encode. "
   ]
  },
  {
   "cell_type": "code",
   "execution_count": 6,
   "metadata": {},
   "outputs": [
    {
     "name": "stdout",
     "output_type": "stream",
     "text": [
      "Tests Passed\n"
     ]
    }
   ],
   "source": [
    "def one_hot_encode(x):\n",
    "    \"\"\"\n",
    "    One hot encode a list of sample labels. Return a one-hot encoded vector for each label.\n",
    "    : x: List of sample Labels\n",
    "    : return: Numpy array of one-hot encoded labels\n",
    "    \"\"\"\n",
    "    return np.eye(10)[x]\n",
    "\n",
    "tests.test_one_hot_encode(one_hot_encode)"
   ]
  },
  {
   "cell_type": "markdown",
   "metadata": {},
   "source": [
    "### Preprocess all the data and save"
   ]
  },
  {
   "cell_type": "code",
   "execution_count": 7,
   "metadata": {},
   "outputs": [],
   "source": [
    "# Preprocess Training, Validation, and Testing Data\n",
    "helper.preprocess_and_save_data(cifar10_dataset_folder_path, normalize, one_hot_encode)"
   ]
  },
  {
   "cell_type": "markdown",
   "metadata": {},
   "source": [
    "Below I save it to pickle, so that if I ever have to restart the notebook, I can start from here. The preprocessed data has been saved to disk."
   ]
  },
  {
   "cell_type": "code",
   "execution_count": 8,
   "metadata": {},
   "outputs": [],
   "source": [
    "import pickle\n",
    "import problem_unittests as tests\n",
    "import helper\n",
    "\n",
    "# Load the Preprocessed Validation data\n",
    "valid_features, valid_labels = pickle.load(open('preprocess_validation.p', mode='rb'))"
   ]
  },
  {
   "cell_type": "markdown",
   "metadata": {},
   "source": [
    "## Build Neural Network"
   ]
  },
  {
   "cell_type": "markdown",
   "metadata": {},
   "source": [
    "### Input\n",
    "The neural network needs to read the image data, one-hot encoded labels, and dropout keep probability. Implement the following functions\n",
    "\n",
    "* Implement neural_net_image_input\n",
    "    - Return a TF Placeholder\n",
    "    - Set the shape using image_shape with batch size set to None.\n",
    "    - Name the TensorFlow placeholder \"x\" using the TensorFlow name parameter in the TF Placeholder.\n",
    "* Implement neural_net_label_input\n",
    "    - Return a TF Placeholder\n",
    "    - Set the shape using n_classes with batch size set to None.\n",
    "    - Name the TensorFlow placeholder \"y\" using the TensorFlow name parameter in the TF Placeholder.\n",
    "* Implement neural_net_keep_prob_input\n",
    "    - Return a TF Placeholder for dropout keep probability.\n",
    "    - Name the TensorFlow placeholder \"keep_prob\" using the TensorFlow name parameter in the TF Placeholder.\n",
    "<br>\n",
    "These names will be used at the end of the project to load your saved model."
   ]
  },
  {
   "cell_type": "code",
   "execution_count": 9,
   "metadata": {},
   "outputs": [
    {
     "name": "stdout",
     "output_type": "stream",
     "text": [
      "Image Input Tests Passed.\n",
      "Label Input Tests Passed.\n",
      "Keep Prob Tests Passed.\n"
     ]
    }
   ],
   "source": [
    "def neural_net_image_input(image_shape):\n",
    "    \"\"\"\n",
    "    Return a Tensor for a bach of image input\n",
    "    : image_shape: Shape of the images\n",
    "    : return: Tensor for image input.\n",
    "    \"\"\"\n",
    "    return tf.placeholder(tf.float32, shape=(None, *image_shape), name='x')\n",
    "\n",
    "\n",
    "def neural_net_label_input(n_classes):\n",
    "    \"\"\"\n",
    "    Return a Tensor for a batch of label input\n",
    "    : n_classes: Number of classes\n",
    "    : return: Tensor for label input.\n",
    "    \"\"\"\n",
    "    return tf.placeholder(tf.float32, shape=(None, n_classes), name='y')\n",
    "\n",
    "\n",
    "def neural_net_keep_prob_input():\n",
    "    \"\"\"\n",
    "    Return a Tensor for keep probability\n",
    "    : return: Tensor for keep probability.\n",
    "    \"\"\"\n",
    "    return tf.placeholder(tf.float32, name='keep_prob')\n",
    "\n",
    "tf.reset_default_graph()\n",
    "tests.test_nn_image_inputs(neural_net_image_input)\n",
    "tests.test_nn_label_inputs(neural_net_label_input)\n",
    "tests.test_nn_keep_prob_inputs(neural_net_keep_prob_input)"
   ]
  },
  {
   "cell_type": "markdown",
   "metadata": {},
   "source": [
    "### Convolution and Max Pooling Layer\n",
    "Convolution layers have a lot of success with images. For this code cell, I implement the function conv2d_maxpool to apply convolution then max pooling:\n",
    "\n",
    "* Create the weight and bias using conv_ksize, conv_num_outputs and the shape of x_tensor.\n",
    "* Apply a convolution to x_tensor using weight and conv_strides.\n",
    "    * I use same padding, but can actually use any padding.\n",
    "* Add bias\n",
    "* Add a nonlinear activation to the convolution.\n",
    "* Apply Max Pooling using pool_ksize and pool_strides."
   ]
  },
  {
   "cell_type": "code",
   "execution_count": 10,
   "metadata": {},
   "outputs": [
    {
     "name": "stdout",
     "output_type": "stream",
     "text": [
      "Tests Passed\n"
     ]
    }
   ],
   "source": [
    "def conv2d_maxpool(x_tensor, conv_num_outputs, conv_ksize, conv_strides, \n",
    "                   pool_ksize, pool_strides):\n",
    "    \"\"\"\n",
    "    Apply convolution then max pooling to x_tensor\n",
    "    :param x_tensor: TensorFlow Tensor\n",
    "    :param conv_num_outputs: Number of outputs for the convolutional layer\n",
    "    :param conv_ksize: kernal size 2-D Tuple for the convolutional layer\n",
    "    :param conv_strides: Stride 2-D Tuple for convolution\n",
    "    :param pool_ksize: kernal size 2-D Tuple for pool\n",
    "    :param pool_strides: Stride 2-D Tuple for pool\n",
    "    : return: A tensor that represents convolution and max pooling of x_tensor\n",
    "    \"\"\"\n",
    "    \n",
    "    \n",
    "    #Define weight\n",
    "    weight_shape = [*conv_ksize, int(x_tensor.shape[3]), conv_num_outputs]\n",
    "    w = tf.Variable(tf.random_normal(weight_shape, stddev=0.1))\n",
    "    \n",
    "    #Define bias\n",
    "    b = tf.Variable(tf.zeros(conv_num_outputs))\n",
    "    \n",
    "    #Apply convolution\n",
    "    x = tf.nn.conv2d(x_tensor, w, strides=[1, *conv_strides, 1], padding='SAME')\n",
    "    \n",
    "    #Apply bias\n",
    "    x = tf.nn.bias_add(x, b)\n",
    "    \n",
    "    #Apply RELU\n",
    "    x = tf.nn.relu(x)\n",
    "    \n",
    "    #Apply Max pool\n",
    "    x = tf.nn.max_pool(x, [1, *pool_ksize, 1], [1, *pool_strides, 1], padding='SAME')\n",
    "    return x\n",
    "\n",
    "tests.test_con_pool(conv2d_maxpool)"
   ]
  },
  {
   "cell_type": "markdown",
   "metadata": {},
   "source": [
    "### Flatten Layer\n",
    "Implement the flatten function to change the dimension of x_tensor from a 4-D tensor to a 2-D tensor. The output should be the shape (Batch Size, Flattened Image Size)."
   ]
  },
  {
   "cell_type": "code",
   "execution_count": 11,
   "metadata": {},
   "outputs": [
    {
     "name": "stdout",
     "output_type": "stream",
     "text": [
      "Tests Passed\n"
     ]
    }
   ],
   "source": [
    "def flatten(x_tensor):\n",
    "    \"\"\"\n",
    "    Flatten x_tensor to (Batch Size, Flattened Image Size)\n",
    "    : x_tensor: A tensor of size (Batch Size, ...), where ... are the image dimensions.\n",
    "    : return: A tensor of size (Batch Size, Flattened Image Size).\n",
    "    \"\"\"\n",
    "    # Implement Function\n",
    "    batch_size, *fltn_img_size = x_tensor.get_shape().as_list()\n",
    "    img_size = fltn_img_size[0] * fltn_img_size[1] * fltn_img_size[2]\n",
    "    tensor = tf.reshape(x_tensor, [-1, img_size])\n",
    "    return tensor\n",
    "\n",
    "tests.test_flatten(flatten)"
   ]
  },
  {
   "cell_type": "markdown",
   "metadata": {},
   "source": [
    "### Fully-Connected Layer\n",
    "Implement the fully_conn function to apply a fully connected layer to x_tensor with the shape (Batch Size, num_outputs)."
   ]
  },
  {
   "cell_type": "code",
   "execution_count": 12,
   "metadata": {},
   "outputs": [
    {
     "name": "stdout",
     "output_type": "stream",
     "text": [
      "Tests Passed\n"
     ]
    }
   ],
   "source": [
    "def fully_conn(x_tensor, num_outputs):\n",
    "\n",
    "    \"\"\"\n",
    "    Apply a fully connected layer to x_tensor using weight and bias\n",
    "    : x_tensor: A 2-D tensor where the first dimension is batch size.\n",
    "    : num_outputs: The number of output that the new tensor should be.\n",
    "    : return: A 2-D tensor where the second dimension is num_outputs.\n",
    "    \"\"\"\n",
    "    #Implement Function weights\n",
    "    w_shape = (int(x_tensor.get_shape().as_list()[1]), num_outputs)\n",
    "    weights = tf.Variable(tf.random_normal(w_shape, stddev=0.1))\n",
    "    \n",
    "    #bias\n",
    "    bias = tf.Variable(tf.zeros(num_outputs))\n",
    "    x = tf.add(tf.matmul(x_tensor, weights), bias)\n",
    "    output = tf.nn.relu(x)\n",
    "    return output\n",
    "    \n",
    "tests.test_fully_conn(fully_conn)"
   ]
  },
  {
   "cell_type": "markdown",
   "metadata": {},
   "source": [
    "### Output Layer\n",
    "Implement the output function to apply a fully connected layer to x_tensor with the shape (Batch Size, num_outputs)."
   ]
  },
  {
   "cell_type": "code",
   "execution_count": 13,
   "metadata": {},
   "outputs": [
    {
     "name": "stdout",
     "output_type": "stream",
     "text": [
      "Tests Passed\n"
     ]
    }
   ],
   "source": [
    "def output(x_tensor, num_outputs):\n",
    "    \"\"\"\n",
    "    Apply a output layer to x_tensor using weight and bias\n",
    "    : x_tensor: A 2-D tensor where the first dimension is batch size.\n",
    "    : num_outputs: The number of output that the new tensor should be.\n",
    "    : return: A 2-D tensor where the second dimension is num_outputs.\n",
    "    \"\"\"\n",
    "    #Implement Function weights\n",
    "    w_shape = (int(x_tensor.get_shape().as_list()[1]), num_outputs)\n",
    "    weights = tf.Variable(tf.random_normal(w_shape, stddev=0.1))\n",
    "    \n",
    "    #bias\n",
    "    bias = tf.Variable(tf.zeros(num_outputs))\n",
    "    x = tf.add(tf.matmul(x_tensor, weights), bias)\n",
    "    return x\n",
    "\n",
    "tests.test_output(output)"
   ]
  },
  {
   "cell_type": "markdown",
   "metadata": {},
   "source": [
    "## Create Convolutional Model\n",
    "Implement the function conv_net to create a convolutional neural network model. The function takes in a batch of images, x, and outputs logits. Use the layers created above to create this model:\n",
    "\n",
    "* Apply 1, 2, or 3 Convolution and Max Pool layers\n",
    "* Apply a Flatten Layer\n",
    "* Apply 1, 2, or 3 Fully Connected Layers\n",
    "* Apply an Output Layer\n",
    "* Return the output\n",
    "* Apply TensorFlow's Dropout to one or more layers in the model using keep_prob."
   ]
  },
  {
   "cell_type": "code",
   "execution_count": 14,
   "metadata": {},
   "outputs": [
    {
     "name": "stdout",
     "output_type": "stream",
     "text": [
      "WARNING:tensorflow:From <ipython-input-14-85eda3613f8a>:22: calling dropout (from tensorflow.python.ops.nn_ops) with keep_prob is deprecated and will be removed in a future version.\n",
      "Instructions for updating:\n",
      "Please use `rate` instead of `keep_prob`. Rate should be set to `rate = 1 - keep_prob`.\n",
      "WARNING:tensorflow:From <ipython-input-14-85eda3613f8a>:54: softmax_cross_entropy_with_logits (from tensorflow.python.ops.nn_ops) is deprecated and will be removed in a future version.\n",
      "Instructions for updating:\n",
      "\n",
      "Future major versions of TensorFlow will allow gradients to flow\n",
      "into the labels input on backprop by default.\n",
      "\n",
      "See `tf.nn.softmax_cross_entropy_with_logits_v2`.\n",
      "\n",
      "Neural Network Built!\n"
     ]
    }
   ],
   "source": [
    "def conv_net(x, keep_prob):\n",
    "    \"\"\"\n",
    "    Create a convolutional neural network model\n",
    "    : x: Placeholder tensor that holds image data.\n",
    "    : keep_prob: Placeholder tensor that hold dropout keep probability.\n",
    "    : return: Tensor that represents logits\n",
    "    \"\"\"\n",
    "    # Apply 1, 2, or 3 Convolution and Max Pool layers\n",
    "    x = conv2d_maxpool(x, 32, (3, 3), (1, 1), (2, 2), (2, 2))\n",
    "    x = conv2d_maxpool(x, 32, (3, 3), (2, 2), (2, 2), (2, 2))\n",
    "    x = conv2d_maxpool(x, 64, (3, 3), (1, 1), (2, 2), (2, 2))\n",
    "    \n",
    "    # Apply a Flatten Layer\n",
    "    # Function Definition from Above:\n",
    "    x = flatten(x)\n",
    "    \n",
    "    # Apply 1, 2, or 3 Fully Connected Layers\n",
    "    #    Play around with different number of outputs\n",
    "    # Function Definition from Above:\n",
    "    #   fully_conn(x_tensor, num_outputs)\n",
    "    x = fully_conn(x, 128)\n",
    "    x = tf.nn.dropout(x, keep_prob)\n",
    "    \n",
    "    \n",
    "    # Apply an Output Layer\n",
    "    #    Set this to the number of classes\n",
    "    # Function Definition from Above:\n",
    "    #   output(x_tensor, num_outputs)\n",
    "    result = output(x, 10)\n",
    "    \n",
    "    \n",
    "    # return output\n",
    "    return result\n",
    "\n",
    "##############################\n",
    "## Build the Neural Network ##\n",
    "##############################\n",
    "\n",
    "# Remove previous weights, bias, inputs, etc..\n",
    "tf.reset_default_graph()\n",
    "\n",
    "# Inputs\n",
    "x = neural_net_image_input((32, 32, 3))\n",
    "y = neural_net_label_input(10)\n",
    "keep_prob = neural_net_keep_prob_input()\n",
    "\n",
    "# Model\n",
    "logits = conv_net(x, keep_prob)\n",
    "\n",
    "# Name logits Tensor, so that is can be loaded from disk after training\n",
    "logits = tf.identity(logits, name='logits')\n",
    "\n",
    "# Loss and Optimizer\n",
    "cost = tf.reduce_mean(tf.nn.softmax_cross_entropy_with_logits(logits=logits, labels=y))\n",
    "optimizer = tf.train.AdamOptimizer().minimize(cost)\n",
    "\n",
    "# Accuracy\n",
    "correct_pred = tf.equal(tf.argmax(logits, 1), tf.argmax(y, 1))\n",
    "accuracy = tf.reduce_mean(tf.cast(correct_pred, tf.float32), name='accuracy')\n",
    "\n",
    "tests.test_conv_net(conv_net)"
   ]
  },
  {
   "cell_type": "markdown",
   "metadata": {},
   "source": [
    "## Train the Neural Network\n",
    "### Single Optimization\n",
    "Implement the function train_neural_network to do a single optimization. The optimization should use optimizer to optimize in session with a feed_dict of the following:\n",
    "\n",
    "* x for image input\n",
    "* y for labels\n",
    "* keep_prob for keep probability for dropout\n",
    "<br>\n",
    "This function will be called for each batch, so tf.global_variables_initializer() has already been called."
   ]
  },
  {
   "cell_type": "code",
   "execution_count": 15,
   "metadata": {},
   "outputs": [
    {
     "name": "stdout",
     "output_type": "stream",
     "text": [
      "Tests Passed\n"
     ]
    }
   ],
   "source": [
    "def train_neural_network(session, optimizer, keep_probability, feature_batch, label_batch):\n",
    "    \"\"\"\n",
    "    Optimize the session on a batch of images and labels\n",
    "    : session: Current TensorFlow session\n",
    "    : optimizer: TensorFlow optimizer function\n",
    "    : keep_probability: keep probability\n",
    "    : feature_batch: Batch of Numpy image data\n",
    "    : label_batch: Batch of Numpy label data\n",
    "    \"\"\"\n",
    "    #Implement Function\n",
    "    session.run(optimizer, feed_dict={\n",
    "        x: feature_batch,\n",
    "        y: label_batch,\n",
    "        keep_prob: keep_probability\n",
    "    })\n",
    "\n",
    "tests.test_train_nn(train_neural_network)"
   ]
  },
  {
   "cell_type": "markdown",
   "metadata": {},
   "source": [
    "## Show Stats\n",
    "Implement the function print_stats to print loss and validation accuracy. Use the global variables valid_features and valid_labels to calculate validation accuracy. Use a keep probability of 1.0 to calculate the loss and validation accuracy."
   ]
  },
  {
   "cell_type": "code",
   "execution_count": 16,
   "metadata": {},
   "outputs": [],
   "source": [
    "def print_stats(session, feature_batch, label_batch, cost, accuracy):\n",
    "    \"\"\"\n",
    "    Print information about loss and validation accuracy\n",
    "    : session: Current TensorFlow session\n",
    "    : feature_batch: Batch of Numpy image data\n",
    "    : label_batch: Batch of Numpy label data\n",
    "    : cost: TensorFlow cost function\n",
    "    : accuracy: TensorFlow accuracy function\n",
    "    \"\"\"\n",
    "     #Implement Function\n",
    "    loss = session.run(cost, feed_dict={\n",
    "        x: feature_batch,\n",
    "        y: label_batch,\n",
    "        keep_prob: 1.\n",
    "    })\n",
    "    \n",
    "    valid_accuracy = session.run(accuracy, feed_dict={\n",
    "        x: valid_features,\n",
    "        y: valid_labels,\n",
    "        keep_prob: 1.\n",
    "    })\n",
    "\n",
    "    print('Loss: {:>10.4f} Validation Accuracy: {:.6f}'.format(loss, valid_accuracy))"
   ]
  },
  {
   "cell_type": "markdown",
   "metadata": {},
   "source": [
    "## Hyperparameters\n",
    "Tune the following parameters:\n",
    "\n",
    "* Set epochs to the number of iterations until the network stops learning or start overfitting\n",
    "* Set batch_size to the highest number that your machine has memory for. Most people set them to common sizes of memory:\n",
    "    * 64\n",
    "    * 128\n",
    "    * 256\n",
    "    * ...\n",
    "<br>\n",
    "* Set keep_probability to the probability of keeping a node using dropout"
   ]
  },
  {
   "cell_type": "code",
   "execution_count": 17,
   "metadata": {},
   "outputs": [],
   "source": [
    "#Tune Parameters\n",
    "epochs = 52\n",
    "batch_size = 256\n",
    "keep_probability = 0.6"
   ]
  },
  {
   "cell_type": "markdown",
   "metadata": {},
   "source": [
    "## Train on a Single CIFAR-10 Batch\n",
    "Instead of training the neural network on all batches of data, I will first use a single batch. This should save time while you iterate on the model to get a better accuracy. Once the final validation accuracy is 50% or greater, run the model on all the data in the next section."
   ]
  },
  {
   "cell_type": "code",
   "execution_count": 18,
   "metadata": {},
   "outputs": [
    {
     "name": "stdout",
     "output_type": "stream",
     "text": [
      "Checking the Training on a Single Batch...\n",
      "Epoch  1, CIFAR-10 Batch 1:  Loss:     2.2223 Validation Accuracy: 0.276000\n",
      "Epoch  2, CIFAR-10 Batch 1:  Loss:     2.0599 Validation Accuracy: 0.357600\n",
      "Epoch  3, CIFAR-10 Batch 1:  Loss:     1.8633 Validation Accuracy: 0.402800\n",
      "Epoch  4, CIFAR-10 Batch 1:  Loss:     1.7234 Validation Accuracy: 0.425400\n",
      "Epoch  5, CIFAR-10 Batch 1:  Loss:     1.5858 Validation Accuracy: 0.441000\n",
      "Epoch  6, CIFAR-10 Batch 1:  Loss:     1.4941 Validation Accuracy: 0.458000\n",
      "Epoch  7, CIFAR-10 Batch 1:  Loss:     1.4146 Validation Accuracy: 0.446000\n",
      "Epoch  8, CIFAR-10 Batch 1:  Loss:     1.2984 Validation Accuracy: 0.476600\n",
      "Epoch  9, CIFAR-10 Batch 1:  Loss:     1.2230 Validation Accuracy: 0.485400\n",
      "Epoch 10, CIFAR-10 Batch 1:  Loss:     1.1256 Validation Accuracy: 0.493000\n",
      "Epoch 11, CIFAR-10 Batch 1:  Loss:     1.0205 Validation Accuracy: 0.507200\n",
      "Epoch 12, CIFAR-10 Batch 1:  Loss:     0.9584 Validation Accuracy: 0.508600\n",
      "Epoch 13, CIFAR-10 Batch 1:  Loss:     0.8996 Validation Accuracy: 0.515000\n",
      "Epoch 14, CIFAR-10 Batch 1:  Loss:     0.8292 Validation Accuracy: 0.518800\n",
      "Epoch 15, CIFAR-10 Batch 1:  Loss:     0.8032 Validation Accuracy: 0.522200\n",
      "Epoch 16, CIFAR-10 Batch 1:  Loss:     0.7382 Validation Accuracy: 0.533200\n",
      "Epoch 17, CIFAR-10 Batch 1:  Loss:     0.6953 Validation Accuracy: 0.533200\n",
      "Epoch 18, CIFAR-10 Batch 1:  Loss:     0.7125 Validation Accuracy: 0.528400\n",
      "Epoch 19, CIFAR-10 Batch 1:  Loss:     0.6214 Validation Accuracy: 0.528200\n",
      "Epoch 20, CIFAR-10 Batch 1:  Loss:     0.5493 Validation Accuracy: 0.542400\n",
      "Epoch 21, CIFAR-10 Batch 1:  Loss:     0.5228 Validation Accuracy: 0.539400\n",
      "Epoch 22, CIFAR-10 Batch 1:  Loss:     0.4848 Validation Accuracy: 0.546800\n",
      "Epoch 23, CIFAR-10 Batch 1:  Loss:     0.4545 Validation Accuracy: 0.548200\n",
      "Epoch 24, CIFAR-10 Batch 1:  Loss:     0.4231 Validation Accuracy: 0.554400\n",
      "Epoch 25, CIFAR-10 Batch 1:  Loss:     0.4155 Validation Accuracy: 0.549400\n",
      "Epoch 26, CIFAR-10 Batch 1:  Loss:     0.3545 Validation Accuracy: 0.553200\n",
      "Epoch 27, CIFAR-10 Batch 1:  Loss:     0.3380 Validation Accuracy: 0.555200\n",
      "Epoch 28, CIFAR-10 Batch 1:  Loss:     0.3373 Validation Accuracy: 0.542200\n",
      "Epoch 29, CIFAR-10 Batch 1:  Loss:     0.2910 Validation Accuracy: 0.542200\n",
      "Epoch 30, CIFAR-10 Batch 1:  Loss:     0.3040 Validation Accuracy: 0.539600\n",
      "Epoch 31, CIFAR-10 Batch 1:  Loss:     0.2808 Validation Accuracy: 0.550000\n",
      "Epoch 32, CIFAR-10 Batch 1:  Loss:     0.2752 Validation Accuracy: 0.556400\n",
      "Epoch 33, CIFAR-10 Batch 1:  Loss:     0.2554 Validation Accuracy: 0.552200\n",
      "Epoch 34, CIFAR-10 Batch 1:  Loss:     0.2412 Validation Accuracy: 0.550400\n",
      "Epoch 35, CIFAR-10 Batch 1:  Loss:     0.2672 Validation Accuracy: 0.547600\n",
      "Epoch 36, CIFAR-10 Batch 1:  Loss:     0.2449 Validation Accuracy: 0.550000\n",
      "Epoch 37, CIFAR-10 Batch 1:  Loss:     0.2017 Validation Accuracy: 0.552600\n",
      "Epoch 38, CIFAR-10 Batch 1:  Loss:     0.2040 Validation Accuracy: 0.551600\n",
      "Epoch 39, CIFAR-10 Batch 1:  Loss:     0.1846 Validation Accuracy: 0.552000\n",
      "Epoch 40, CIFAR-10 Batch 1:  Loss:     0.1872 Validation Accuracy: 0.549000\n",
      "Epoch 41, CIFAR-10 Batch 1:  Loss:     0.1837 Validation Accuracy: 0.551200\n",
      "Epoch 42, CIFAR-10 Batch 1:  Loss:     0.1903 Validation Accuracy: 0.550400\n",
      "Epoch 43, CIFAR-10 Batch 1:  Loss:     0.1533 Validation Accuracy: 0.552600\n",
      "Epoch 44, CIFAR-10 Batch 1:  Loss:     0.1391 Validation Accuracy: 0.561400\n",
      "Epoch 45, CIFAR-10 Batch 1:  Loss:     0.1421 Validation Accuracy: 0.552200\n",
      "Epoch 46, CIFAR-10 Batch 1:  Loss:     0.1448 Validation Accuracy: 0.560000\n",
      "Epoch 47, CIFAR-10 Batch 1:  Loss:     0.1216 Validation Accuracy: 0.558400\n",
      "Epoch 48, CIFAR-10 Batch 1:  Loss:     0.1246 Validation Accuracy: 0.561000\n",
      "Epoch 49, CIFAR-10 Batch 1:  Loss:     0.1675 Validation Accuracy: 0.553600\n",
      "Epoch 50, CIFAR-10 Batch 1:  Loss:     0.1319 Validation Accuracy: 0.554800\n",
      "Epoch 51, CIFAR-10 Batch 1:  Loss:     0.1488 Validation Accuracy: 0.556200\n",
      "Epoch 52, CIFAR-10 Batch 1:  Loss:     0.1169 Validation Accuracy: 0.551800\n"
     ]
    }
   ],
   "source": [
    "print('Checking the Training on a Single Batch...')\n",
    "with tf.Session() as sess:\n",
    "    # Initializing the variables\n",
    "    sess.run(tf.global_variables_initializer())\n",
    "    \n",
    "    # Training cycle\n",
    "    for epoch in range(epochs):\n",
    "        batch_i = 1\n",
    "        for batch_features, batch_labels in helper.load_preprocess_training_batch(batch_i, batch_size):\n",
    "            train_neural_network(sess, optimizer, keep_probability, batch_features, batch_labels)\n",
    "        print('Epoch {:>2}, CIFAR-10 Batch {}:  '.format(epoch + 1, batch_i), end='')\n",
    "        print_stats(sess, batch_features, batch_labels, cost, accuracy)"
   ]
  },
  {
   "cell_type": "markdown",
   "metadata": {},
   "source": [
    "## Fully Train the Model\n",
    "Now that I got a good accuracy with a single batch, try it with all five batches."
   ]
  },
  {
   "cell_type": "code",
   "execution_count": 19,
   "metadata": {},
   "outputs": [
    {
     "name": "stdout",
     "output_type": "stream",
     "text": [
      "Training...\n",
      "Epoch  1, CIFAR-10 Batch 1:  Loss:     2.1433 Validation Accuracy: 0.286000\n",
      "Epoch  1, CIFAR-10 Batch 2:  Loss:     1.8434 Validation Accuracy: 0.338200\n",
      "Epoch  1, CIFAR-10 Batch 3:  Loss:     1.5547 Validation Accuracy: 0.369600\n",
      "Epoch  1, CIFAR-10 Batch 4:  Loss:     1.6057 Validation Accuracy: 0.425800\n",
      "Epoch  1, CIFAR-10 Batch 5:  Loss:     1.5083 Validation Accuracy: 0.443000\n",
      "Epoch  2, CIFAR-10 Batch 1:  Loss:     1.6450 Validation Accuracy: 0.465200\n",
      "Epoch  2, CIFAR-10 Batch 2:  Loss:     1.3953 Validation Accuracy: 0.470400\n",
      "Epoch  2, CIFAR-10 Batch 3:  Loss:     1.2641 Validation Accuracy: 0.461800\n",
      "Epoch  2, CIFAR-10 Batch 4:  Loss:     1.3548 Validation Accuracy: 0.486400\n",
      "Epoch  2, CIFAR-10 Batch 5:  Loss:     1.2802 Validation Accuracy: 0.503000\n",
      "Epoch  3, CIFAR-10 Batch 1:  Loss:     1.4174 Validation Accuracy: 0.513400\n",
      "Epoch  3, CIFAR-10 Batch 2:  Loss:     1.2375 Validation Accuracy: 0.521800\n",
      "Epoch  3, CIFAR-10 Batch 3:  Loss:     1.1411 Validation Accuracy: 0.483400\n",
      "Epoch  3, CIFAR-10 Batch 4:  Loss:     1.1798 Validation Accuracy: 0.517600\n",
      "Epoch  3, CIFAR-10 Batch 5:  Loss:     1.1927 Validation Accuracy: 0.537000\n",
      "Epoch  4, CIFAR-10 Batch 1:  Loss:     1.2872 Validation Accuracy: 0.524800\n",
      "Epoch  4, CIFAR-10 Batch 2:  Loss:     1.1240 Validation Accuracy: 0.542600\n",
      "Epoch  4, CIFAR-10 Batch 3:  Loss:     1.0102 Validation Accuracy: 0.525000\n",
      "Epoch  4, CIFAR-10 Batch 4:  Loss:     1.0305 Validation Accuracy: 0.538400\n",
      "Epoch  4, CIFAR-10 Batch 5:  Loss:     1.0872 Validation Accuracy: 0.558600\n",
      "Epoch  5, CIFAR-10 Batch 1:  Loss:     1.1308 Validation Accuracy: 0.562400\n",
      "Epoch  5, CIFAR-10 Batch 2:  Loss:     1.0393 Validation Accuracy: 0.566600\n",
      "Epoch  5, CIFAR-10 Batch 3:  Loss:     0.9194 Validation Accuracy: 0.564200\n",
      "Epoch  5, CIFAR-10 Batch 4:  Loss:     0.9826 Validation Accuracy: 0.564400\n",
      "Epoch  5, CIFAR-10 Batch 5:  Loss:     1.0374 Validation Accuracy: 0.574400\n",
      "Epoch  6, CIFAR-10 Batch 1:  Loss:     1.0323 Validation Accuracy: 0.564800\n",
      "Epoch  6, CIFAR-10 Batch 2:  Loss:     0.9495 Validation Accuracy: 0.579800\n",
      "Epoch  6, CIFAR-10 Batch 3:  Loss:     0.8194 Validation Accuracy: 0.589600\n",
      "Epoch  6, CIFAR-10 Batch 4:  Loss:     0.8877 Validation Accuracy: 0.584200\n",
      "Epoch  6, CIFAR-10 Batch 5:  Loss:     0.9325 Validation Accuracy: 0.584600\n",
      "Epoch  7, CIFAR-10 Batch 1:  Loss:     0.9563 Validation Accuracy: 0.586400\n",
      "Epoch  7, CIFAR-10 Batch 2:  Loss:     0.8998 Validation Accuracy: 0.592600\n",
      "Epoch  7, CIFAR-10 Batch 3:  Loss:     0.7203 Validation Accuracy: 0.604800\n",
      "Epoch  7, CIFAR-10 Batch 4:  Loss:     0.8208 Validation Accuracy: 0.598200\n",
      "Epoch  7, CIFAR-10 Batch 5:  Loss:     0.8739 Validation Accuracy: 0.592600\n",
      "Epoch  8, CIFAR-10 Batch 1:  Loss:     0.9031 Validation Accuracy: 0.596800\n",
      "Epoch  8, CIFAR-10 Batch 2:  Loss:     0.8028 Validation Accuracy: 0.596000\n",
      "Epoch  8, CIFAR-10 Batch 3:  Loss:     0.6482 Validation Accuracy: 0.610800\n",
      "Epoch  8, CIFAR-10 Batch 4:  Loss:     0.7400 Validation Accuracy: 0.606400\n",
      "Epoch  8, CIFAR-10 Batch 5:  Loss:     0.7844 Validation Accuracy: 0.597200\n",
      "Epoch  9, CIFAR-10 Batch 1:  Loss:     0.8566 Validation Accuracy: 0.612600\n",
      "Epoch  9, CIFAR-10 Batch 2:  Loss:     0.7529 Validation Accuracy: 0.612000\n",
      "Epoch  9, CIFAR-10 Batch 3:  Loss:     0.5718 Validation Accuracy: 0.631200\n",
      "Epoch  9, CIFAR-10 Batch 4:  Loss:     0.6885 Validation Accuracy: 0.619600\n",
      "Epoch  9, CIFAR-10 Batch 5:  Loss:     0.7676 Validation Accuracy: 0.585800\n",
      "Epoch 10, CIFAR-10 Batch 1:  Loss:     0.8049 Validation Accuracy: 0.606000\n",
      "Epoch 10, CIFAR-10 Batch 2:  Loss:     0.6927 Validation Accuracy: 0.618600\n",
      "Epoch 10, CIFAR-10 Batch 3:  Loss:     0.5185 Validation Accuracy: 0.627200\n",
      "Epoch 10, CIFAR-10 Batch 4:  Loss:     0.6645 Validation Accuracy: 0.632400\n",
      "Epoch 10, CIFAR-10 Batch 5:  Loss:     0.6770 Validation Accuracy: 0.625000\n",
      "Epoch 11, CIFAR-10 Batch 1:  Loss:     0.7569 Validation Accuracy: 0.621800\n",
      "Epoch 11, CIFAR-10 Batch 2:  Loss:     0.6729 Validation Accuracy: 0.616600\n",
      "Epoch 11, CIFAR-10 Batch 3:  Loss:     0.4757 Validation Accuracy: 0.641600\n",
      "Epoch 11, CIFAR-10 Batch 4:  Loss:     0.6550 Validation Accuracy: 0.628600\n",
      "Epoch 11, CIFAR-10 Batch 5:  Loss:     0.6660 Validation Accuracy: 0.624800\n",
      "Epoch 12, CIFAR-10 Batch 1:  Loss:     0.7044 Validation Accuracy: 0.613200\n",
      "Epoch 12, CIFAR-10 Batch 2:  Loss:     0.6106 Validation Accuracy: 0.636600\n",
      "Epoch 12, CIFAR-10 Batch 3:  Loss:     0.4223 Validation Accuracy: 0.648200\n",
      "Epoch 12, CIFAR-10 Batch 4:  Loss:     0.5588 Validation Accuracy: 0.644600\n",
      "Epoch 12, CIFAR-10 Batch 5:  Loss:     0.6340 Validation Accuracy: 0.632200\n",
      "Epoch 13, CIFAR-10 Batch 1:  Loss:     0.6257 Validation Accuracy: 0.628600\n",
      "Epoch 13, CIFAR-10 Batch 2:  Loss:     0.5379 Validation Accuracy: 0.646000\n",
      "Epoch 13, CIFAR-10 Batch 3:  Loss:     0.3969 Validation Accuracy: 0.651800\n",
      "Epoch 13, CIFAR-10 Batch 4:  Loss:     0.5248 Validation Accuracy: 0.651200\n",
      "Epoch 13, CIFAR-10 Batch 5:  Loss:     0.5707 Validation Accuracy: 0.645200\n",
      "Epoch 14, CIFAR-10 Batch 1:  Loss:     0.6096 Validation Accuracy: 0.634000\n",
      "Epoch 14, CIFAR-10 Batch 2:  Loss:     0.4681 Validation Accuracy: 0.643800\n",
      "Epoch 14, CIFAR-10 Batch 3:  Loss:     0.3505 Validation Accuracy: 0.655000\n",
      "Epoch 14, CIFAR-10 Batch 4:  Loss:     0.5008 Validation Accuracy: 0.651800\n",
      "Epoch 14, CIFAR-10 Batch 5:  Loss:     0.5114 Validation Accuracy: 0.649400\n",
      "Epoch 15, CIFAR-10 Batch 1:  Loss:     0.5772 Validation Accuracy: 0.635400\n",
      "Epoch 15, CIFAR-10 Batch 2:  Loss:     0.4521 Validation Accuracy: 0.658200\n",
      "Epoch 15, CIFAR-10 Batch 3:  Loss:     0.3619 Validation Accuracy: 0.660200\n",
      "Epoch 15, CIFAR-10 Batch 4:  Loss:     0.4680 Validation Accuracy: 0.661000\n",
      "Epoch 15, CIFAR-10 Batch 5:  Loss:     0.4651 Validation Accuracy: 0.659600\n",
      "Epoch 16, CIFAR-10 Batch 1:  Loss:     0.5426 Validation Accuracy: 0.646200\n",
      "Epoch 16, CIFAR-10 Batch 2:  Loss:     0.4457 Validation Accuracy: 0.653800\n",
      "Epoch 16, CIFAR-10 Batch 3:  Loss:     0.3347 Validation Accuracy: 0.660800\n",
      "Epoch 16, CIFAR-10 Batch 4:  Loss:     0.4473 Validation Accuracy: 0.662200\n",
      "Epoch 16, CIFAR-10 Batch 5:  Loss:     0.4547 Validation Accuracy: 0.664800\n",
      "Epoch 17, CIFAR-10 Batch 1:  Loss:     0.5271 Validation Accuracy: 0.658200\n",
      "Epoch 17, CIFAR-10 Batch 2:  Loss:     0.4066 Validation Accuracy: 0.666800\n",
      "Epoch 17, CIFAR-10 Batch 3:  Loss:     0.3135 Validation Accuracy: 0.657800\n",
      "Epoch 17, CIFAR-10 Batch 4:  Loss:     0.4011 Validation Accuracy: 0.669800\n",
      "Epoch 17, CIFAR-10 Batch 5:  Loss:     0.4474 Validation Accuracy: 0.664200\n",
      "Epoch 18, CIFAR-10 Batch 1:  Loss:     0.4912 Validation Accuracy: 0.648200\n",
      "Epoch 18, CIFAR-10 Batch 2:  Loss:     0.3835 Validation Accuracy: 0.663600\n",
      "Epoch 18, CIFAR-10 Batch 3:  Loss:     0.3085 Validation Accuracy: 0.668800\n",
      "Epoch 18, CIFAR-10 Batch 4:  Loss:     0.4162 Validation Accuracy: 0.670000\n",
      "Epoch 18, CIFAR-10 Batch 5:  Loss:     0.4143 Validation Accuracy: 0.664400\n",
      "Epoch 19, CIFAR-10 Batch 1:  Loss:     0.4522 Validation Accuracy: 0.651600\n",
      "Epoch 19, CIFAR-10 Batch 2:  Loss:     0.3872 Validation Accuracy: 0.663400\n",
      "Epoch 19, CIFAR-10 Batch 3:  Loss:     0.2814 Validation Accuracy: 0.666200\n",
      "Epoch 19, CIFAR-10 Batch 4:  Loss:     0.3841 Validation Accuracy: 0.669600\n",
      "Epoch 19, CIFAR-10 Batch 5:  Loss:     0.4036 Validation Accuracy: 0.664800\n",
      "Epoch 20, CIFAR-10 Batch 1:  Loss:     0.4243 Validation Accuracy: 0.653400\n",
      "Epoch 20, CIFAR-10 Batch 2:  Loss:     0.3546 Validation Accuracy: 0.667400\n",
      "Epoch 20, CIFAR-10 Batch 3:  Loss:     0.2716 Validation Accuracy: 0.679600\n",
      "Epoch 20, CIFAR-10 Batch 4:  Loss:     0.3815 Validation Accuracy: 0.677000\n",
      "Epoch 20, CIFAR-10 Batch 5:  Loss:     0.3629 Validation Accuracy: 0.670400\n",
      "Epoch 21, CIFAR-10 Batch 1:  Loss:     0.4108 Validation Accuracy: 0.661200\n",
      "Epoch 21, CIFAR-10 Batch 2:  Loss:     0.3136 Validation Accuracy: 0.668600\n",
      "Epoch 21, CIFAR-10 Batch 3:  Loss:     0.2345 Validation Accuracy: 0.681200\n",
      "Epoch 21, CIFAR-10 Batch 4:  Loss:     0.3407 Validation Accuracy: 0.669200\n",
      "Epoch 21, CIFAR-10 Batch 5:  Loss:     0.3497 Validation Accuracy: 0.671800\n",
      "Epoch 22, CIFAR-10 Batch 1:  Loss:     0.3926 Validation Accuracy: 0.662600\n",
      "Epoch 22, CIFAR-10 Batch 2:  Loss:     0.2824 Validation Accuracy: 0.672800\n",
      "Epoch 22, CIFAR-10 Batch 3:  Loss:     0.2321 Validation Accuracy: 0.669800\n"
     ]
    },
    {
     "name": "stdout",
     "output_type": "stream",
     "text": [
      "Epoch 22, CIFAR-10 Batch 4:  Loss:     0.3426 Validation Accuracy: 0.667400\n",
      "Epoch 22, CIFAR-10 Batch 5:  Loss:     0.3000 Validation Accuracy: 0.675800\n",
      "Epoch 23, CIFAR-10 Batch 1:  Loss:     0.3704 Validation Accuracy: 0.661400\n",
      "Epoch 23, CIFAR-10 Batch 2:  Loss:     0.2935 Validation Accuracy: 0.675400\n",
      "Epoch 23, CIFAR-10 Batch 3:  Loss:     0.2051 Validation Accuracy: 0.685000\n",
      "Epoch 23, CIFAR-10 Batch 4:  Loss:     0.3229 Validation Accuracy: 0.670200\n",
      "Epoch 23, CIFAR-10 Batch 5:  Loss:     0.3057 Validation Accuracy: 0.674800\n",
      "Epoch 24, CIFAR-10 Batch 1:  Loss:     0.3760 Validation Accuracy: 0.677000\n",
      "Epoch 24, CIFAR-10 Batch 2:  Loss:     0.2698 Validation Accuracy: 0.674800\n",
      "Epoch 24, CIFAR-10 Batch 3:  Loss:     0.2315 Validation Accuracy: 0.681400\n",
      "Epoch 24, CIFAR-10 Batch 4:  Loss:     0.2950 Validation Accuracy: 0.675800\n",
      "Epoch 24, CIFAR-10 Batch 5:  Loss:     0.2765 Validation Accuracy: 0.674600\n",
      "Epoch 25, CIFAR-10 Batch 1:  Loss:     0.3656 Validation Accuracy: 0.666800\n",
      "Epoch 25, CIFAR-10 Batch 2:  Loss:     0.2924 Validation Accuracy: 0.673800\n",
      "Epoch 25, CIFAR-10 Batch 3:  Loss:     0.2058 Validation Accuracy: 0.677200\n",
      "Epoch 25, CIFAR-10 Batch 4:  Loss:     0.2658 Validation Accuracy: 0.676600\n",
      "Epoch 25, CIFAR-10 Batch 5:  Loss:     0.2801 Validation Accuracy: 0.679200\n",
      "Epoch 26, CIFAR-10 Batch 1:  Loss:     0.3357 Validation Accuracy: 0.670200\n",
      "Epoch 26, CIFAR-10 Batch 2:  Loss:     0.2513 Validation Accuracy: 0.673200\n",
      "Epoch 26, CIFAR-10 Batch 3:  Loss:     0.2016 Validation Accuracy: 0.685400\n",
      "Epoch 26, CIFAR-10 Batch 4:  Loss:     0.2655 Validation Accuracy: 0.673800\n",
      "Epoch 26, CIFAR-10 Batch 5:  Loss:     0.2644 Validation Accuracy: 0.674200\n",
      "Epoch 27, CIFAR-10 Batch 1:  Loss:     0.3254 Validation Accuracy: 0.675000\n",
      "Epoch 27, CIFAR-10 Batch 2:  Loss:     0.2382 Validation Accuracy: 0.684000\n",
      "Epoch 27, CIFAR-10 Batch 3:  Loss:     0.2100 Validation Accuracy: 0.670800\n",
      "Epoch 27, CIFAR-10 Batch 4:  Loss:     0.2479 Validation Accuracy: 0.673200\n",
      "Epoch 27, CIFAR-10 Batch 5:  Loss:     0.2878 Validation Accuracy: 0.666000\n",
      "Epoch 28, CIFAR-10 Batch 1:  Loss:     0.3296 Validation Accuracy: 0.667600\n",
      "Epoch 28, CIFAR-10 Batch 2:  Loss:     0.2310 Validation Accuracy: 0.686600\n",
      "Epoch 28, CIFAR-10 Batch 3:  Loss:     0.1846 Validation Accuracy: 0.685800\n",
      "Epoch 28, CIFAR-10 Batch 4:  Loss:     0.2438 Validation Accuracy: 0.687800\n",
      "Epoch 28, CIFAR-10 Batch 5:  Loss:     0.2257 Validation Accuracy: 0.673600\n",
      "Epoch 29, CIFAR-10 Batch 1:  Loss:     0.2820 Validation Accuracy: 0.668200\n",
      "Epoch 29, CIFAR-10 Batch 2:  Loss:     0.2416 Validation Accuracy: 0.680200\n",
      "Epoch 29, CIFAR-10 Batch 3:  Loss:     0.1873 Validation Accuracy: 0.678000\n",
      "Epoch 29, CIFAR-10 Batch 4:  Loss:     0.2095 Validation Accuracy: 0.678400\n",
      "Epoch 29, CIFAR-10 Batch 5:  Loss:     0.2181 Validation Accuracy: 0.680000\n",
      "Epoch 30, CIFAR-10 Batch 1:  Loss:     0.2562 Validation Accuracy: 0.675800\n",
      "Epoch 30, CIFAR-10 Batch 2:  Loss:     0.2261 Validation Accuracy: 0.685200\n",
      "Epoch 30, CIFAR-10 Batch 3:  Loss:     0.1779 Validation Accuracy: 0.682600\n",
      "Epoch 30, CIFAR-10 Batch 4:  Loss:     0.2087 Validation Accuracy: 0.688600\n",
      "Epoch 30, CIFAR-10 Batch 5:  Loss:     0.1991 Validation Accuracy: 0.678600\n",
      "Epoch 31, CIFAR-10 Batch 1:  Loss:     0.2631 Validation Accuracy: 0.674400\n",
      "Epoch 31, CIFAR-10 Batch 2:  Loss:     0.2100 Validation Accuracy: 0.685200\n",
      "Epoch 31, CIFAR-10 Batch 3:  Loss:     0.1714 Validation Accuracy: 0.683000\n",
      "Epoch 31, CIFAR-10 Batch 4:  Loss:     0.2001 Validation Accuracy: 0.689600\n",
      "Epoch 31, CIFAR-10 Batch 5:  Loss:     0.1951 Validation Accuracy: 0.683200\n",
      "Epoch 32, CIFAR-10 Batch 1:  Loss:     0.2655 Validation Accuracy: 0.682000\n",
      "Epoch 32, CIFAR-10 Batch 2:  Loss:     0.1981 Validation Accuracy: 0.685200\n",
      "Epoch 32, CIFAR-10 Batch 3:  Loss:     0.2156 Validation Accuracy: 0.671800\n",
      "Epoch 32, CIFAR-10 Batch 4:  Loss:     0.1800 Validation Accuracy: 0.690200\n",
      "Epoch 32, CIFAR-10 Batch 5:  Loss:     0.1672 Validation Accuracy: 0.683800\n",
      "Epoch 33, CIFAR-10 Batch 1:  Loss:     0.2622 Validation Accuracy: 0.670400\n",
      "Epoch 33, CIFAR-10 Batch 2:  Loss:     0.1875 Validation Accuracy: 0.684400\n",
      "Epoch 33, CIFAR-10 Batch 3:  Loss:     0.1688 Validation Accuracy: 0.683600\n",
      "Epoch 33, CIFAR-10 Batch 4:  Loss:     0.1801 Validation Accuracy: 0.687200\n",
      "Epoch 33, CIFAR-10 Batch 5:  Loss:     0.1738 Validation Accuracy: 0.686200\n",
      "Epoch 34, CIFAR-10 Batch 1:  Loss:     0.2431 Validation Accuracy: 0.674400\n",
      "Epoch 34, CIFAR-10 Batch 2:  Loss:     0.1715 Validation Accuracy: 0.691200\n",
      "Epoch 34, CIFAR-10 Batch 3:  Loss:     0.1405 Validation Accuracy: 0.688800\n",
      "Epoch 34, CIFAR-10 Batch 4:  Loss:     0.1530 Validation Accuracy: 0.692600\n",
      "Epoch 34, CIFAR-10 Batch 5:  Loss:     0.1635 Validation Accuracy: 0.687800\n",
      "Epoch 35, CIFAR-10 Batch 1:  Loss:     0.2396 Validation Accuracy: 0.682000\n",
      "Epoch 35, CIFAR-10 Batch 2:  Loss:     0.1977 Validation Accuracy: 0.692400\n",
      "Epoch 35, CIFAR-10 Batch 3:  Loss:     0.1512 Validation Accuracy: 0.679200\n",
      "Epoch 35, CIFAR-10 Batch 4:  Loss:     0.1591 Validation Accuracy: 0.682800\n",
      "Epoch 35, CIFAR-10 Batch 5:  Loss:     0.1597 Validation Accuracy: 0.690600\n",
      "Epoch 36, CIFAR-10 Batch 1:  Loss:     0.2303 Validation Accuracy: 0.677600\n",
      "Epoch 36, CIFAR-10 Batch 2:  Loss:     0.1700 Validation Accuracy: 0.680200\n",
      "Epoch 36, CIFAR-10 Batch 3:  Loss:     0.1590 Validation Accuracy: 0.671800\n",
      "Epoch 36, CIFAR-10 Batch 4:  Loss:     0.1705 Validation Accuracy: 0.685400\n",
      "Epoch 36, CIFAR-10 Batch 5:  Loss:     0.1656 Validation Accuracy: 0.683800\n",
      "Epoch 37, CIFAR-10 Batch 1:  Loss:     0.2352 Validation Accuracy: 0.678200\n",
      "Epoch 37, CIFAR-10 Batch 2:  Loss:     0.1464 Validation Accuracy: 0.687000\n",
      "Epoch 37, CIFAR-10 Batch 3:  Loss:     0.1484 Validation Accuracy: 0.670600\n",
      "Epoch 37, CIFAR-10 Batch 4:  Loss:     0.1882 Validation Accuracy: 0.676200\n",
      "Epoch 37, CIFAR-10 Batch 5:  Loss:     0.1489 Validation Accuracy: 0.684800\n",
      "Epoch 38, CIFAR-10 Batch 1:  Loss:     0.2302 Validation Accuracy: 0.678600\n",
      "Epoch 38, CIFAR-10 Batch 2:  Loss:     0.1643 Validation Accuracy: 0.686800\n",
      "Epoch 38, CIFAR-10 Batch 3:  Loss:     0.1210 Validation Accuracy: 0.676400\n",
      "Epoch 38, CIFAR-10 Batch 4:  Loss:     0.1313 Validation Accuracy: 0.689200\n",
      "Epoch 38, CIFAR-10 Batch 5:  Loss:     0.1499 Validation Accuracy: 0.685000\n",
      "Epoch 39, CIFAR-10 Batch 1:  Loss:     0.2163 Validation Accuracy: 0.684800\n",
      "Epoch 39, CIFAR-10 Batch 2:  Loss:     0.1484 Validation Accuracy: 0.687400\n",
      "Epoch 39, CIFAR-10 Batch 3:  Loss:     0.1246 Validation Accuracy: 0.667000\n",
      "Epoch 39, CIFAR-10 Batch 4:  Loss:     0.1580 Validation Accuracy: 0.686600\n",
      "Epoch 39, CIFAR-10 Batch 5:  Loss:     0.1506 Validation Accuracy: 0.685200\n",
      "Epoch 40, CIFAR-10 Batch 1:  Loss:     0.1871 Validation Accuracy: 0.681600\n",
      "Epoch 40, CIFAR-10 Batch 2:  Loss:     0.1326 Validation Accuracy: 0.683000\n",
      "Epoch 40, CIFAR-10 Batch 3:  Loss:     0.1199 Validation Accuracy: 0.674400\n",
      "Epoch 40, CIFAR-10 Batch 4:  Loss:     0.1563 Validation Accuracy: 0.689600\n",
      "Epoch 40, CIFAR-10 Batch 5:  Loss:     0.1598 Validation Accuracy: 0.685000\n",
      "Epoch 41, CIFAR-10 Batch 1:  Loss:     0.1908 Validation Accuracy: 0.676800\n",
      "Epoch 41, CIFAR-10 Batch 2:  Loss:     0.1303 Validation Accuracy: 0.689800\n",
      "Epoch 41, CIFAR-10 Batch 3:  Loss:     0.1191 Validation Accuracy: 0.674600\n",
      "Epoch 41, CIFAR-10 Batch 4:  Loss:     0.1654 Validation Accuracy: 0.695800\n",
      "Epoch 41, CIFAR-10 Batch 5:  Loss:     0.1471 Validation Accuracy: 0.679400\n",
      "Epoch 42, CIFAR-10 Batch 1:  Loss:     0.2034 Validation Accuracy: 0.682400\n",
      "Epoch 42, CIFAR-10 Batch 2:  Loss:     0.1464 Validation Accuracy: 0.687800\n",
      "Epoch 42, CIFAR-10 Batch 3:  Loss:     0.1128 Validation Accuracy: 0.658600\n",
      "Epoch 42, CIFAR-10 Batch 4:  Loss:     0.1477 Validation Accuracy: 0.687200\n",
      "Epoch 42, CIFAR-10 Batch 5:  Loss:     0.1439 Validation Accuracy: 0.680200\n",
      "Epoch 43, CIFAR-10 Batch 1:  Loss:     0.1766 Validation Accuracy: 0.687600\n",
      "Epoch 43, CIFAR-10 Batch 2:  Loss:     0.1331 Validation Accuracy: 0.681200\n",
      "Epoch 43, CIFAR-10 Batch 3:  Loss:     0.1075 Validation Accuracy: 0.676000\n",
      "Epoch 43, CIFAR-10 Batch 4:  Loss:     0.1516 Validation Accuracy: 0.683000\n",
      "Epoch 43, CIFAR-10 Batch 5:  Loss:     0.1393 Validation Accuracy: 0.690200\n",
      "Epoch 44, CIFAR-10 Batch 1:  Loss:     0.1844 Validation Accuracy: 0.687000\n"
     ]
    },
    {
     "name": "stdout",
     "output_type": "stream",
     "text": [
      "Epoch 44, CIFAR-10 Batch 2:  Loss:     0.1338 Validation Accuracy: 0.680400\n",
      "Epoch 44, CIFAR-10 Batch 3:  Loss:     0.1027 Validation Accuracy: 0.674400\n",
      "Epoch 44, CIFAR-10 Batch 4:  Loss:     0.1259 Validation Accuracy: 0.697400\n",
      "Epoch 44, CIFAR-10 Batch 5:  Loss:     0.1290 Validation Accuracy: 0.689400\n",
      "Epoch 45, CIFAR-10 Batch 1:  Loss:     0.1564 Validation Accuracy: 0.694000\n",
      "Epoch 45, CIFAR-10 Batch 2:  Loss:     0.1390 Validation Accuracy: 0.678200\n",
      "Epoch 45, CIFAR-10 Batch 3:  Loss:     0.1149 Validation Accuracy: 0.679600\n",
      "Epoch 45, CIFAR-10 Batch 4:  Loss:     0.1287 Validation Accuracy: 0.687800\n",
      "Epoch 45, CIFAR-10 Batch 5:  Loss:     0.1282 Validation Accuracy: 0.687400\n",
      "Epoch 46, CIFAR-10 Batch 1:  Loss:     0.1772 Validation Accuracy: 0.680800\n",
      "Epoch 46, CIFAR-10 Batch 2:  Loss:     0.1313 Validation Accuracy: 0.668800\n",
      "Epoch 46, CIFAR-10 Batch 3:  Loss:     0.1169 Validation Accuracy: 0.673200\n",
      "Epoch 46, CIFAR-10 Batch 4:  Loss:     0.1066 Validation Accuracy: 0.691200\n",
      "Epoch 46, CIFAR-10 Batch 5:  Loss:     0.1265 Validation Accuracy: 0.685600\n",
      "Epoch 47, CIFAR-10 Batch 1:  Loss:     0.1862 Validation Accuracy: 0.676600\n",
      "Epoch 47, CIFAR-10 Batch 2:  Loss:     0.1151 Validation Accuracy: 0.681200\n",
      "Epoch 47, CIFAR-10 Batch 3:  Loss:     0.1041 Validation Accuracy: 0.684400\n",
      "Epoch 47, CIFAR-10 Batch 4:  Loss:     0.1056 Validation Accuracy: 0.690400\n",
      "Epoch 47, CIFAR-10 Batch 5:  Loss:     0.1174 Validation Accuracy: 0.686200\n",
      "Epoch 48, CIFAR-10 Batch 1:  Loss:     0.1961 Validation Accuracy: 0.675800\n",
      "Epoch 48, CIFAR-10 Batch 2:  Loss:     0.1114 Validation Accuracy: 0.677600\n",
      "Epoch 48, CIFAR-10 Batch 3:  Loss:     0.1039 Validation Accuracy: 0.689200\n",
      "Epoch 48, CIFAR-10 Batch 4:  Loss:     0.0941 Validation Accuracy: 0.694000\n",
      "Epoch 48, CIFAR-10 Batch 5:  Loss:     0.1132 Validation Accuracy: 0.677800\n",
      "Epoch 49, CIFAR-10 Batch 1:  Loss:     0.1651 Validation Accuracy: 0.682800\n",
      "Epoch 49, CIFAR-10 Batch 2:  Loss:     0.1200 Validation Accuracy: 0.672600\n",
      "Epoch 49, CIFAR-10 Batch 3:  Loss:     0.0796 Validation Accuracy: 0.684800\n",
      "Epoch 49, CIFAR-10 Batch 4:  Loss:     0.1085 Validation Accuracy: 0.691400\n",
      "Epoch 49, CIFAR-10 Batch 5:  Loss:     0.0930 Validation Accuracy: 0.691400\n",
      "Epoch 50, CIFAR-10 Batch 1:  Loss:     0.1635 Validation Accuracy: 0.678600\n",
      "Epoch 50, CIFAR-10 Batch 2:  Loss:     0.1093 Validation Accuracy: 0.682000\n",
      "Epoch 50, CIFAR-10 Batch 3:  Loss:     0.0917 Validation Accuracy: 0.689400\n",
      "Epoch 50, CIFAR-10 Batch 4:  Loss:     0.1030 Validation Accuracy: 0.693400\n",
      "Epoch 50, CIFAR-10 Batch 5:  Loss:     0.0974 Validation Accuracy: 0.692800\n",
      "Epoch 51, CIFAR-10 Batch 1:  Loss:     0.1474 Validation Accuracy: 0.680600\n",
      "Epoch 51, CIFAR-10 Batch 2:  Loss:     0.1084 Validation Accuracy: 0.671600\n",
      "Epoch 51, CIFAR-10 Batch 3:  Loss:     0.0942 Validation Accuracy: 0.685600\n",
      "Epoch 51, CIFAR-10 Batch 4:  Loss:     0.1224 Validation Accuracy: 0.687600\n",
      "Epoch 51, CIFAR-10 Batch 5:  Loss:     0.0892 Validation Accuracy: 0.688200\n",
      "Epoch 52, CIFAR-10 Batch 1:  Loss:     0.1690 Validation Accuracy: 0.675600\n",
      "Epoch 52, CIFAR-10 Batch 2:  Loss:     0.1078 Validation Accuracy: 0.668600\n",
      "Epoch 52, CIFAR-10 Batch 3:  Loss:     0.1114 Validation Accuracy: 0.672600\n",
      "Epoch 52, CIFAR-10 Batch 4:  Loss:     0.0959 Validation Accuracy: 0.690400\n",
      "Epoch 52, CIFAR-10 Batch 5:  Loss:     0.0977 Validation Accuracy: 0.685400\n"
     ]
    }
   ],
   "source": [
    "save_model_path = './image_classification'\n",
    "\n",
    "print('Training...')\n",
    "with tf.Session() as sess:\n",
    "    # Initializing the variables\n",
    "    sess.run(tf.global_variables_initializer())\n",
    "    \n",
    "    # Training cycle\n",
    "    for epoch in range(epochs):\n",
    "        # Loop over all batches\n",
    "        n_batches = 5\n",
    "        for batch_i in range(1, n_batches + 1):\n",
    "            for batch_features, batch_labels in helper.load_preprocess_training_batch(batch_i, batch_size):\n",
    "                train_neural_network(sess, optimizer, keep_probability, batch_features, batch_labels)\n",
    "            print('Epoch {:>2}, CIFAR-10 Batch {}:  '.format(epoch + 1, batch_i), end='')\n",
    "            print_stats(sess, batch_features, batch_labels, cost, accuracy)\n",
    "            \n",
    "    # Save Model\n",
    "    saver = tf.train.Saver()\n",
    "    save_path = saver.save(sess, save_model_path)"
   ]
  },
  {
   "cell_type": "markdown",
   "metadata": {},
   "source": [
    "## Test Model\n",
    "Test model against the test dataset and check out the final accuracy."
   ]
  },
  {
   "cell_type": "code",
   "execution_count": 24,
   "metadata": {},
   "outputs": [
    {
     "name": "stdout",
     "output_type": "stream",
     "text": [
      "INFO:tensorflow:Restoring parameters from ./image_classification\n",
      "Testing Accuracy: 0.68447265625\n",
      "\n"
     ]
    },
    {
     "data": {
      "image/png": "[encoded data removed]",
      "text/plain": [
       "<Figure size 432x288 with 8 Axes>"
      ]
     },
     "metadata": {
      "image/png": {
       "height": 319,
       "width": 341
      },
      "needs_background": "light"
     },
     "output_type": "display_data"
    }
   ],
   "source": [
    "%matplotlib inline\n",
    "%config InlineBackend.figure_format = 'retina'\n",
    "# Set batch size if not already set\n",
    "try:\n",
    "    if batch_size:\n",
    "        pass\n",
    "except NameError:\n",
    "    batch_size = 64\n",
    "\n",
    "save_model_path = './image_classification'\n",
    "n_samples = 4\n",
    "top_n_predictions = 3\n",
    "def test_model():\n",
    "    \"\"\"\n",
    "    Test the saved model against the test dataset\n",
    "    \"\"\"\n",
    "\n",
    "    test_features, test_labels = pickle.load(open('preprocess_training.p', mode='rb'))\n",
    "    loaded_graph = tf.Graph()\n",
    "\n",
    "    with tf.Session(graph=loaded_graph) as sess:\n",
    "        # Load model\n",
    "        loader = tf.train.import_meta_graph(save_model_path + '.meta')\n",
    "        loader.restore(sess, save_model_path)\n",
    "\n",
    "        # Get Tensors from loaded model\n",
    "        loaded_x = loaded_graph.get_tensor_by_name('x:0')\n",
    "        loaded_y = loaded_graph.get_tensor_by_name('y:0')\n",
    "        loaded_keep_prob = loaded_graph.get_tensor_by_name('keep_prob:0')\n",
    "        loaded_logits = loaded_graph.get_tensor_by_name('logits:0')\n",
    "        loaded_acc = loaded_graph.get_tensor_by_name('accuracy:0')\n",
    "        \n",
    "        # Get accuracy in batches for memory limitations\n",
    "        test_batch_acc_total = 0\n",
    "        test_batch_count = 0\n",
    "        \n",
    "        for train_feature_batch, train_label_batch in helper.batch_features_labels(test_features, test_labels, batch_size):\n",
    "            test_batch_acc_total += sess.run(\n",
    "                loaded_acc,\n",
    "                feed_dict={loaded_x: train_feature_batch, loaded_y: train_label_batch, loaded_keep_prob: 1.0})\n",
    "            test_batch_count += 1\n",
    "\n",
    "        print('Testing Accuracy: {}\\n'.format(test_batch_acc_total/test_batch_count))\n",
    "\n",
    "        # Print Random Samples\n",
    "        random_test_features, random_test_labels = tuple(zip(*random.sample(list(zip(test_features, test_labels)), n_samples)))\n",
    "        random_test_predictions = sess.run(\n",
    "            tf.nn.top_k(tf.nn.softmax(loaded_logits), top_n_predictions),\n",
    "            feed_dict={loaded_x: random_test_features, loaded_y: random_test_labels, loaded_keep_prob: 1.0})\n",
    "        helper.display_image_predictions(random_test_features, random_test_labels, random_test_predictions)\n",
    "\n",
    "\n",
    "test_model()"
   ]
  },
  {
   "cell_type": "code",
   "execution_count": null,
   "metadata": {},
   "outputs": [],
   "source": []
  }
 ],
 "metadata": {
  "kernelspec": {
   "display_name": "Python 3",
   "language": "python",
   "name": "python3"
  },
  "language_info": {
   "codemirror_mode": {
    "name": "ipython",
    "version": 3
   },
   "file_extension": ".py",
   "mimetype": "text/x-python",
   "name": "python",
   "nbconvert_exporter": "python",
   "pygments_lexer": "ipython3",
   "version": "3.7.3"
  }
 },
 "nbformat": 4,
 "nbformat_minor": 2
}
